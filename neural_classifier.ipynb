{
 "cells": [
  {
   "cell_type": "code",
   "execution_count": 1,
   "metadata": {},
   "outputs": [],
   "source": [
    "import os\n",
    "import cv2\n",
    "import numpy as np\n",
    "import tensorflow as tf\n",
    "from tensorflow import keras \n",
    "import seaborn as sns\n",
    "from keras.utils.np_utils import to_categorical\n",
    "from sklearn.model_selection import train_test_split\n",
    "from sklearn.metrics import confusion_matrix\n",
    "import itertools\n",
    "\n",
    "from keras.models import Sequential\n",
    "from keras.layers import Dense\n",
    "from keras.optimizers import SGD\n",
    "\n",
    "def load_data(path, flatten=False):\n",
    "    images = []\n",
    "    labels = []\n",
    "    for subdir, dirs, files in os.walk(path):\n",
    "        for filename in files:\n",
    "            filepath = subdir + os.sep + filename\n",
    "            label = subdir[-1]\n",
    "            img = cv2.imread(filepath, cv2.IMREAD_GRAYSCALE)\n",
    "            if(flatten):\n",
    "                img = img.flatten()\n",
    "            images.append(img)\n",
    "            labels.append(label)\n",
    "            \n",
    "    return np.array(images), np.array(labels)\n",
    "\n",
    "train_images, train_labels = load_data(\"mnist_png/training\", flatten=True)\n",
    "test_images, test_labels = load_data(\"mnist_png/testing\", flatten=True)\n",
    "\n",
    "train_images = train_images / 255.0\n",
    "test_images = test_images / 255.0"
   ]
  },
  {
   "cell_type": "code",
   "execution_count": 2,
   "metadata": {},
   "outputs": [],
   "source": [
    "train_labels = to_categorical(train_labels)\n",
    "test_labels = to_categorical(test_labels)\n",
    "\n",
    "train_images, val_images, train_labels, val_labels = train_test_split(train_images, train_labels, shuffle=True, test_size = 0.2, random_state = 5)"
   ]
  },
  {
   "cell_type": "code",
   "execution_count": 3,
   "metadata": {},
   "outputs": [
    {
     "name": "stdout",
     "output_type": "stream",
     "text": [
      "Model: \"sequential\"\n",
      "_________________________________________________________________\n",
      "Layer (type)                 Output Shape              Param #   \n",
      "=================================================================\n",
      "dense (Dense)                (None, 128)               100480    \n",
      "_________________________________________________________________\n",
      "dense_1 (Dense)              (None, 64)                8256      \n",
      "_________________________________________________________________\n",
      "dense_2 (Dense)              (None, 10)                650       \n",
      "=================================================================\n",
      "Total params: 109,386\n",
      "Trainable params: 109,386\n",
      "Non-trainable params: 0\n",
      "_________________________________________________________________\n"
     ]
    }
   ],
   "source": [
    "model = Sequential()\n",
    "\n",
    "model.add(Dense(128, activation = \"relu\", input_shape = (784,)))\n",
    "model.add(Dense(64, activation = \"relu\"))\n",
    "model.add(Dense(10, activation = \"softmax\"))\n",
    "\n",
    "optimizer = SGD(lr=0.01)\n",
    "model.compile(optimizer=optimizer , loss=\"categorical_crossentropy\", metrics=[\"accuracy\"])\n",
    "model.summary()"
   ]
  },
  {
   "cell_type": "code",
   "execution_count": 4,
   "metadata": {},
   "outputs": [
    {
     "name": "stdout",
     "output_type": "stream",
     "text": [
      "(48000, 784) (48000, 10) (12000, 784) (12000, 10)\n",
      "Epoch 1/10\n",
      "375/375 [==============================] - 1s 2ms/step - loss: 1.4230 - accuracy: 0.6504 - val_loss: 0.7560 - val_accuracy: 0.8253\n",
      "Epoch 2/10\n",
      "375/375 [==============================] - 1s 1ms/step - loss: 0.5869 - accuracy: 0.8508 - val_loss: 0.4718 - val_accuracy: 0.8748\n",
      "Epoch 3/10\n",
      "375/375 [==============================] - 1s 1ms/step - loss: 0.4322 - accuracy: 0.8815 - val_loss: 0.3893 - val_accuracy: 0.8936\n",
      "Epoch 4/10\n",
      "375/375 [==============================] - 1s 1ms/step - loss: 0.3734 - accuracy: 0.8948 - val_loss: 0.3526 - val_accuracy: 0.9014\n",
      "Epoch 5/10\n",
      "375/375 [==============================] - 1s 1ms/step - loss: 0.3398 - accuracy: 0.9034 - val_loss: 0.3265 - val_accuracy: 0.9087\n",
      "Epoch 6/10\n",
      "375/375 [==============================] - 1s 1ms/step - loss: 0.3172 - accuracy: 0.9098 - val_loss: 0.3074 - val_accuracy: 0.9153\n",
      "Epoch 7/10\n",
      "375/375 [==============================] - 1s 1ms/step - loss: 0.2991 - accuracy: 0.9146 - val_loss: 0.2926 - val_accuracy: 0.9183\n",
      "Epoch 8/10\n",
      "375/375 [==============================] - 1s 1ms/step - loss: 0.2844 - accuracy: 0.9187 - val_loss: 0.2812 - val_accuracy: 0.9206\n",
      "Epoch 9/10\n",
      "375/375 [==============================] - 1s 1ms/step - loss: 0.2712 - accuracy: 0.9224 - val_loss: 0.2715 - val_accuracy: 0.9232\n",
      "Epoch 10/10\n",
      "375/375 [==============================] - 1s 1ms/step - loss: 0.2600 - accuracy: 0.9258 - val_loss: 0.2602 - val_accuracy: 0.9262\n"
     ]
    }
   ],
   "source": [
    "print(train_images.shape, train_labels.shape, val_images.shape, val_labels.shape)\n",
    "\n",
    "history = model.fit(\n",
    "        train_images, train_labels,\n",
    "        batch_size=128,\n",
    "        epochs = 10,\n",
    "        validation_data = (val_images,val_labels)\n",
    "    )\n",
    "\n",
    "# Plot the loss and accuracy curves for training and validation \n"
   ]
  },
  {
   "cell_type": "code",
   "execution_count": 5,
   "metadata": {},
   "outputs": [
    {
     "data": {
      "text/plain": [
       "<matplotlib.legend.Legend at 0x17614a08820>"
      ]
     },
     "execution_count": 5,
     "metadata": {},
     "output_type": "execute_result"
    },
    {
     "data": {
      "image/png": "[encoded data removed]",
      "text/plain": [
       "<Figure size 432x288 with 1 Axes>"
      ]
     },
     "metadata": {
      "needs_background": "light"
     },
     "output_type": "display_data"
    }
   ],
   "source": [
    "import matplotlib.pyplot as plt\n",
    "\n",
    "plt.plot(history.history['accuracy'], label='accuracy')\n",
    "plt.plot(history.history['loss'], label='loss')\n",
    "plt.legend(loc='lower right')"
   ]
  },
  {
   "cell_type": "code",
   "execution_count": 6,
   "metadata": {},
   "outputs": [
    {
     "name": "stdout",
     "output_type": "stream",
     "text": [
      "Test loss: 0.25023353099823\n",
      "Test accuracy: 0.9286999702453613\n"
     ]
    }
   ],
   "source": [
    "score = model.evaluate(test_images, test_labels, verbose=0)\n",
    "print('Test loss:', score[0])\n",
    "print('Test accuracy:', score[1])"
   ]
  },
  {
   "cell_type": "code",
   "execution_count": null,
   "metadata": {},
   "outputs": [],
   "source": []
  }
 ],
 "metadata": {
  "kernelspec": {
   "display_name": "Python 3",
   "language": "python",
   "name": "python3"
  },
  "language_info": {
   "codemirror_mode": {
    "name": "ipython",
    "version": 3
   },
   "file_extension": ".py",
   "mimetype": "text/x-python",
   "name": "python",
   "nbconvert_exporter": "python",
   "pygments_lexer": "ipython3",
   "version": "3.8.1"
  }
 },
 "nbformat": 4,
 "nbformat_minor": 4
}
